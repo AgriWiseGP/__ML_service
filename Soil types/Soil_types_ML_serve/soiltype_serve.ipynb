{
  "nbformat": 4,
  "nbformat_minor": 0,
  "metadata": {
    "colab": {
      "provenance": []
    },
    "kernelspec": {
      "name": "python3",
      "display_name": "Python 3"
    },
    "language_info": {
      "name": "python"
    }
  },
  "cells": [
    {
      "cell_type": "code",
      "execution_count": null,
      "metadata": {
        "id": "bgtamaLYwLpD"
      },
      "outputs": [],
      "source": [
        "import tensorflow as tf \n",
        "import numpy\n",
        "import pandas as pd\n",
        "import cv2\n",
        "from tensorflow.keras.utils import CustomObjectScope\n",
        "import tensorflow_hub as hub\n",
        "\n",
        "class mobile_net:\n",
        "    def __init__(self):\n",
        "       with CustomObjectScope({'KerasLayer': tf.keras.layers.Layer}):\n",
        "        self.model =  tf.keras.models.load_model('/content/drive/MyDrive/AgriWise/ML/soli type/model2/soil_type.h5', custom_objects={'KerasLayer':hub.KerasLayer})\n",
        "\n",
        "    \n",
        "    def preprocessing(self,img_path):\n",
        "        # Load image\n",
        "        img = cv2.imread(img_path)\n",
        "\n",
        "        # Resize image to 224x224\n",
        "        img = cv2.resize(img, (224, 224))\n",
        "\n",
        "        # Add batch dimension\n",
        "        img = numpy.expand_dims(img, axis=0)\n",
        "\n",
        "        return img\n",
        "\n",
        "    def predict(self, input_data):\n",
        "        return self.model.predict(input_data)\n",
        "\n",
        "    def postprocessing(self, prediction):\n",
        "        categories = ['Black Soil', 'Cinder Soil', 'Laterite Soil', 'Peat Soil', 'Yellow Soil']\n",
        "        index_max_predict = numpy.argmax(prediction)\n",
        "        return categories[index_max_predict]\n",
        "        \n",
        "\n",
        "    def compute_prediction(self, input_data):\n",
        "        try:\n",
        "            input_data = self.preprocessing(input_data)\n",
        "            prediction = self.predict(input_data)[0]  # only one sample\n",
        "            prediction = self.postprocessing(prediction)\n",
        "        except Exception as e:\n",
        "            return {\"status\": \"Error\", \"message\": str(e)}\n",
        "\n",
        "      \n",
        "        return prediction\n",
        "\n",
        "    \n"
      ]
    }
  ]
}